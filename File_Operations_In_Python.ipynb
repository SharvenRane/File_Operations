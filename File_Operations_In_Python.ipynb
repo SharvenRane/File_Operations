{
 "cells": [
  {
   "cell_type": "code",
   "execution_count": 1,
   "id": "ef37195c",
   "metadata": {},
   "outputs": [
    {
     "data": {
      "text/plain": [
       "'C:\\\\Users\\\\sharv'"
      ]
     },
     "execution_count": 1,
     "metadata": {},
     "output_type": "execute_result"
    }
   ],
   "source": [
    "pwd # shows present working directory"
   ]
  },
  {
   "cell_type": "code",
   "execution_count": null,
   "id": "626dff9a",
   "metadata": {},
   "outputs": [],
   "source": [
    "# Default location is users folder"
   ]
  },
  {
   "cell_type": "code",
   "execution_count": null,
   "id": "91b6a2c3",
   "metadata": {},
   "outputs": [],
   "source": [
    "# Write a text file to current working directory"
   ]
  },
  {
   "cell_type": "code",
   "execution_count": 9,
   "id": "489c5fd2",
   "metadata": {},
   "outputs": [],
   "source": [
    "f = open('FStest.txt','w+') # W+ is used for reading and writing and the file is created if it doesnt exist\n",
    "f.write(\"Some more text\") # Overwrites if you run again\n",
    "f.close()"
   ]
  },
  {
   "cell_type": "code",
   "execution_count": 3,
   "id": "3b8b651e",
   "metadata": {},
   "outputs": [],
   "source": [
    "import os"
   ]
  },
  {
   "cell_type": "code",
   "execution_count": 5,
   "id": "a1750cd9",
   "metadata": {},
   "outputs": [
    {
     "data": {
      "text/plain": [
       "'C:\\\\Users\\\\sharv'"
      ]
     },
     "execution_count": 5,
     "metadata": {},
     "output_type": "execute_result"
    }
   ],
   "source": [
    "os.getcwd() #Shows current working directory"
   ]
  },
  {
   "cell_type": "code",
   "execution_count": 8,
   "id": "f3efbc50",
   "metadata": {},
   "outputs": [
    {
     "data": {
      "text/plain": [
       "['.angular-config.json',\n",
       " '.astropy',\n",
       " '.bash_history',\n",
       " '.cache',\n",
       " '.conda',\n",
       " '.condarc',\n",
       " '.continuum',\n",
       " '.ipynb_checkpoints',\n",
       " '.ipython',\n",
       " '.jupyter',\n",
       " '.matplotlib',\n",
       " '.ms-ad',\n",
       " '.vscode',\n",
       " '1NPDPRO5.DOC',\n",
       " '3D Objects',\n",
       " '541.ipynb',\n",
       " '641 h.w 4 question 6.ipynb',\n",
       " '641 H.W 4 Question 7.ipynb',\n",
       " 'anaconda3',\n",
       " 'AppData',\n",
       " 'Application Data',\n",
       " 'ass1_ml_code.ipynb',\n",
       " 'collage.png',\n",
       " 'Contacts',\n",
       " 'Cookies',\n",
       " 'CPE 695 Final project',\n",
       " 'Desktop',\n",
       " 'Documents',\n",
       " 'Downloads',\n",
       " 'Favorites',\n",
       " 'File_Operations_In_Python.ipynb',\n",
       " 'FStest.txt',\n",
       " 'geckodriver.log',\n",
       " 'get-pip.py',\n",
       " 'h.w6',\n",
       " 'h.w6.zip',\n",
       " 'horizontal.png',\n",
       " 'image_manipulation.ipynb',\n",
       " 'larain.dat',\n",
       " 'Links',\n",
       " 'Local Settings',\n",
       " 'Marlabs Python',\n",
       " 'MJKJDeviceGUID',\n",
       " 'MJKJRegInfo_JSOIGNLOFVI6W4DODRL5DLLUHYENUXTM',\n",
       " 'Music',\n",
       " 'My Documents',\n",
       " 'my-app',\n",
       " 'NetHood',\n",
       " 'New folder',\n",
       " 'NPProt.bkp',\n",
       " 'NPProt.exe',\n",
       " 'NTUSER.DAT',\n",
       " 'ntuser.dat.LOG1',\n",
       " 'ntuser.dat.LOG2',\n",
       " 'NTUSER.DAT{53b39e88-18c4-11ea-a811-000d3aa4692b}.TM.blf',\n",
       " 'NTUSER.DAT{53b39e88-18c4-11ea-a811-000d3aa4692b}.TMContainer00000000000000000001.regtrans-ms',\n",
       " 'NTUSER.DAT{53b39e88-18c4-11ea-a811-000d3aa4692b}.TMContainer00000000000000000002.regtrans-ms',\n",
       " 'ntuser.ini',\n",
       " 'OneDrive',\n",
       " 'Pictures',\n",
       " 'PrintHood',\n",
       " 'Projects',\n",
       " 'PycharmProjects',\n",
       " 'Python Practice',\n",
       " 'Recent',\n",
       " 'Saved Games',\n",
       " 'search khan.ipynb',\n",
       " 'Searches',\n",
       " 'SendTo',\n",
       " 'Start Menu',\n",
       " 'Stock Market Prediction.ipynb',\n",
       " 'Templates',\n",
       " 'titanic.csv',\n",
       " 'Tracing',\n",
       " 'Untitled.ipynb',\n",
       " 'untitled.py',\n",
       " 'Untitled1.ipynb',\n",
       " 'Untitled10.ipynb',\n",
       " 'Untitled11.ipynb',\n",
       " 'Untitled12.ipynb',\n",
       " 'Untitled13.ipynb',\n",
       " 'Untitled14.ipynb',\n",
       " 'Untitled15.ipynb',\n",
       " 'Untitled16.ipynb',\n",
       " 'Untitled17.ipynb',\n",
       " 'Untitled18.ipynb',\n",
       " 'Untitled19.ipynb',\n",
       " 'Untitled2.ipynb',\n",
       " 'Untitled3.ipynb',\n",
       " 'Untitled4.ipynb',\n",
       " 'Untitled5.ipynb',\n",
       " 'Untitled6.ipynb',\n",
       " 'Untitled7.ipynb',\n",
       " 'Untitled8.ipynb',\n",
       " 'Untitled9.ipynb',\n",
       " 'vertical.png',\n",
       " 'Videos',\n",
       " 'winnebago.dat']"
      ]
     },
     "execution_count": 8,
     "metadata": {},
     "output_type": "execute_result"
    }
   ],
   "source": [
    "os.listdir() #List of directory in current working directory"
   ]
  },
  {
   "cell_type": "code",
   "execution_count": 10,
   "id": "60c5b0d0",
   "metadata": {},
   "outputs": [],
   "source": [
    "f = open('FStest.txt','r+')\n",
    "f.write(\"add some\") # Now its written weirdly because of overwriting and remainging characters will be left\n",
    "f.close()"
   ]
  },
  {
   "cell_type": "code",
   "execution_count": 11,
   "id": "c707d544",
   "metadata": {},
   "outputs": [],
   "source": [
    "f = open('FStest.txt','a+')\n",
    "f.write(\"sharven\") # a+ writes furthure onto the file words where pointer ends\n",
    "f.close()"
   ]
  },
  {
   "cell_type": "code",
   "execution_count": 13,
   "id": "d65f783b",
   "metadata": {},
   "outputs": [
    {
     "data": {
      "text/plain": [
       "['1NPDPRO5.DOC',\n",
       " 'All Users',\n",
       " 'Default',\n",
       " 'Default User',\n",
       " 'desktop.ini',\n",
       " 'Public',\n",
       " 'sharv']"
      ]
     },
     "execution_count": 13,
     "metadata": {},
     "output_type": "execute_result"
    }
   ],
   "source": [
    "os.listdir('C:\\\\Users') #If you want to access other directories"
   ]
  },
  {
   "cell_type": "code",
   "execution_count": 14,
   "id": "6a50dbb2",
   "metadata": {},
   "outputs": [],
   "source": [
    "import shutil"
   ]
  },
  {
   "cell_type": "code",
   "execution_count": 22,
   "id": "9963883c",
   "metadata": {},
   "outputs": [
    {
     "ename": "PermissionError",
     "evalue": "[WinError 32] The process cannot access the file because it is being used by another process: 'FStest.txt'",
     "output_type": "error",
     "traceback": [
      "\u001b[1;31m---------------------------------------------------------------------------\u001b[0m",
      "\u001b[1;31mPermissionError\u001b[0m                           Traceback (most recent call last)",
      "\u001b[1;32m~\\anaconda3\\lib\\shutil.py\u001b[0m in \u001b[0;36mmove\u001b[1;34m(src, dst, copy_function)\u001b[0m\n\u001b[0;32m    813\u001b[0m     \u001b[1;32mtry\u001b[0m\u001b[1;33m:\u001b[0m\u001b[1;33m\u001b[0m\u001b[1;33m\u001b[0m\u001b[0m\n\u001b[1;32m--> 814\u001b[1;33m         \u001b[0mos\u001b[0m\u001b[1;33m.\u001b[0m\u001b[0mrename\u001b[0m\u001b[1;33m(\u001b[0m\u001b[0msrc\u001b[0m\u001b[1;33m,\u001b[0m \u001b[0mreal_dst\u001b[0m\u001b[1;33m)\u001b[0m\u001b[1;33m\u001b[0m\u001b[1;33m\u001b[0m\u001b[0m\n\u001b[0m\u001b[0;32m    815\u001b[0m     \u001b[1;32mexcept\u001b[0m \u001b[0mOSError\u001b[0m\u001b[1;33m:\u001b[0m\u001b[1;33m\u001b[0m\u001b[1;33m\u001b[0m\u001b[0m\n",
      "\u001b[1;31mPermissionError\u001b[0m: [WinError 32] The process cannot access the file because it is being used by another process: 'FStest.txt' -> 'C:\\\\Users\\\\sharv\\\\Marlabs Python\\\\FStest.txt'",
      "\nDuring handling of the above exception, another exception occurred:\n",
      "\u001b[1;31mPermissionError\u001b[0m                           Traceback (most recent call last)",
      "\u001b[1;32m~\\AppData\\Local\\Temp/ipykernel_11380/3043406975.py\u001b[0m in \u001b[0;36m<module>\u001b[1;34m\u001b[0m\n\u001b[1;32m----> 1\u001b[1;33m \u001b[0mshutil\u001b[0m\u001b[1;33m.\u001b[0m\u001b[0mmove\u001b[0m\u001b[1;33m(\u001b[0m\u001b[1;34m'FStest.txt'\u001b[0m\u001b[1;33m,\u001b[0m\u001b[1;34m'C:\\\\Users\\\\sharv\\\\Marlabs Python'\u001b[0m\u001b[1;33m)\u001b[0m\u001b[1;33m\u001b[0m\u001b[1;33m\u001b[0m\u001b[0m\n\u001b[0m",
      "\u001b[1;32m~\\anaconda3\\lib\\shutil.py\u001b[0m in \u001b[0;36mmove\u001b[1;34m(src, dst, copy_function)\u001b[0m\n\u001b[0;32m    833\u001b[0m         \u001b[1;32melse\u001b[0m\u001b[1;33m:\u001b[0m\u001b[1;33m\u001b[0m\u001b[1;33m\u001b[0m\u001b[0m\n\u001b[0;32m    834\u001b[0m             \u001b[0mcopy_function\u001b[0m\u001b[1;33m(\u001b[0m\u001b[0msrc\u001b[0m\u001b[1;33m,\u001b[0m \u001b[0mreal_dst\u001b[0m\u001b[1;33m)\u001b[0m\u001b[1;33m\u001b[0m\u001b[1;33m\u001b[0m\u001b[0m\n\u001b[1;32m--> 835\u001b[1;33m             \u001b[0mos\u001b[0m\u001b[1;33m.\u001b[0m\u001b[0munlink\u001b[0m\u001b[1;33m(\u001b[0m\u001b[0msrc\u001b[0m\u001b[1;33m)\u001b[0m\u001b[1;33m\u001b[0m\u001b[1;33m\u001b[0m\u001b[0m\n\u001b[0m\u001b[0;32m    836\u001b[0m     \u001b[1;32mreturn\u001b[0m \u001b[0mreal_dst\u001b[0m\u001b[1;33m\u001b[0m\u001b[1;33m\u001b[0m\u001b[0m\n\u001b[0;32m    837\u001b[0m \u001b[1;33m\u001b[0m\u001b[0m\n",
      "\u001b[1;31mPermissionError\u001b[0m: [WinError 32] The process cannot access the file because it is being used by another process: 'FStest.txt'"
     ]
    }
   ],
   "source": [
    "shutil.move('FStest.txt','C:\\\\Users\\\\sharv\\\\Marlabs Python') #Moves file to new place we mention"
   ]
  },
  {
   "cell_type": "code",
   "execution_count": 23,
   "id": "d0039269",
   "metadata": {},
   "outputs": [
    {
     "ename": "SyntaxError",
     "evalue": "invalid syntax (Temp/ipykernel_11380/2590608447.py, line 1)",
     "output_type": "error",
     "traceback": [
      "\u001b[1;36m  File \u001b[1;32m\"C:\\Users\\sharv\\AppData\\Local\\Temp/ipykernel_11380/2590608447.py\"\u001b[1;36m, line \u001b[1;32m1\u001b[0m\n\u001b[1;33m    conda install send2trash\u001b[0m\n\u001b[1;37m          ^\u001b[0m\n\u001b[1;31mSyntaxError\u001b[0m\u001b[1;31m:\u001b[0m invalid syntax\n"
     ]
    }
   ],
   "source": [
    "# os.unlink(path)\n",
    "# os.rmdir(path)\n",
    "# shutil.mtree(path)"
   ]
  },
  {
   "cell_type": "code",
   "execution_count": 27,
   "id": "a42a0e06",
   "metadata": {},
   "outputs": [
    {
     "name": "stdout",
     "output_type": "stream",
     "text": [
      "Collecting package metadata (current_repodata.json): ...working... done\n",
      "Solving environment: ...working... done\n",
      "\n",
      "# All requested packages already installed.\n",
      "\n",
      "\n",
      "Note: you may need to restart the kernel to use updated packages.\n"
     ]
    }
   ],
   "source": [
    "conda install send2trash"
   ]
  },
  {
   "cell_type": "code",
   "execution_count": 28,
   "id": "34f7d82b",
   "metadata": {},
   "outputs": [],
   "source": [
    "import send2trash"
   ]
  },
  {
   "cell_type": "code",
   "execution_count": null,
   "id": "8555370b",
   "metadata": {},
   "outputs": [],
   "source": [
    "# Lets say we want to delete a file from documents"
   ]
  },
  {
   "cell_type": "code",
   "execution_count": 30,
   "id": "a073f8d6",
   "metadata": {},
   "outputs": [],
   "source": [
    "send2trash.send2trash('C:\\\\Users\\\\sharv\\\\Documents\\\\League of Legends')"
   ]
  }
 ],
 "metadata": {
  "kernelspec": {
   "display_name": "Python 3 (ipykernel)",
   "language": "python",
   "name": "python3"
  },
  "language_info": {
   "codemirror_mode": {
    "name": "ipython",
    "version": 3
   },
   "file_extension": ".py",
   "mimetype": "text/x-python",
   "name": "python",
   "nbconvert_exporter": "python",
   "pygments_lexer": "ipython3",
   "version": "3.9.7"
  }
 },
 "nbformat": 4,
 "nbformat_minor": 5
}
